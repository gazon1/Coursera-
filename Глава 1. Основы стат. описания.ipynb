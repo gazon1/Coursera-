{
 "cells": [
  {
   "cell_type": "code",
   "execution_count": 66,
   "metadata": {},
   "outputs": [],
   "source": [
    "import numpy as np\n",
    "import matplotlib.pyplot as plt\n",
    "from scipy.stats import norm, chi2\n",
    "import math\n",
    "# 1.1\n",
    "rng = np.random.default_rng()\n",
    "def bern_distr(p, n):\n",
    "    # Распр. бернули\n",
    "    return list(map(int, rng.random(n) < p))"
   ]
  },
  {
   "cell_type": "code",
   "execution_count": 26,
   "metadata": {},
   "outputs": [],
   "source": [
    "# 1.2\n",
    "p = 0.4\n",
    "n = 10000\n",
    "sample = bern_distr(p, n)\n",
    "K = range(100, n + 100, 100)\n",
    "nu = [sum(sample[:k])/k for k in K]"
   ]
  },
  {
   "cell_type": "code",
   "execution_count": 27,
   "metadata": {},
   "outputs": [
    {
     "data": {
      "text/plain": [
       "[<matplotlib.lines.Line2D at 0x7fe94638fef0>]"
      ]
     },
     "execution_count": 27,
     "metadata": {},
     "output_type": "execute_result"
    },
    {
     "data": {
      "image/png": "[encoded data removed]",
      "text/plain": [
       "<Figure size 432x288 with 1 Axes>"
      ]
     },
     "metadata": {
      "needs_background": "light"
     },
     "output_type": "display_data"
    }
   ],
   "source": [
    "plt.plot(K, nu)"
   ]
  },
  {
   "cell_type": "markdown",
   "metadata": {},
   "source": [
    "Выборочное среднее сходится по вероятности к теоретическому мат. ожиданию в 0.4"
   ]
  },
  {
   "cell_type": "markdown",
   "metadata": {},
   "source": [
    "https://stackoverflow.com/questions/20626994/how-to-calculate-the-inverse-of-the-normal-cumulative-distribution-function-in-p\n",
    "https://stats.stackexchange.com/questions/265925/what-is-inverse-cdf-normal-distribution-formula\n",
    "https://100task.ru/sample/119.aspx\n",
    "http://info.levandovskiy.info/wp-content/uploads/2017/12/kriterii_kvantili.pdf\n",
    "https://ru.stackoverflow.com/questions/542603/%D0%9A%D0%B0%D0%BA-%D0%BF%D0%BE%D0%BB%D1%83%D1%87%D0%B8%D1%82%D1%8C-%D0%B7%D0%BD%D0%B0%D1%87%D0%B5%D0%BD%D0%B8%D0%B5-%D1%84%D1%83%D0%BD%D0%BA%D1%86%D0%B8%D0%B8-%D0%BB%D0%B0%D0%BF%D0%BB%D0%B0%D1%81%D0%B0-python\n",
    "https://www.berdov.com/works/teorver/integralnaya-teorema-muavra-laplasa/"
   ]
  },
  {
   "cell_type": "code",
   "execution_count": 38,
   "metadata": {},
   "outputs": [
    {
     "name": "stdout",
     "output_type": "stream",
     "text": [
      "0.018000000000000016 0.03603962629458082\n"
     ]
    }
   ],
   "source": [
    "# 1.12\n",
    "def Bi_kp(k, p):\n",
    "    # Биномаинальное распределение\n",
    "    return sum(bern_distr(k, p))\n",
    "# 1.15\n",
    "n = 1000\n",
    "p = 3./5.\n",
    "sample = bern_distr(p, n)\n",
    "one_count = sum(sample) # число успехов\n",
    "gamma = 0.98\n",
    "t = norm.ppf( (gamma + 1.) / 2.)\n",
    "delta = t * math.sqrt(p*(1.-p)/n)\n",
    "print(one_count / n - p, delta)"
   ]
  },
  {
   "cell_type": "markdown",
   "metadata": {},
   "source": [
    "То есть резульатты подбрасывания 1000 монеток, у каждой из который вероятность решки 0.6, укладываеются в границу |v_n/n - p| < delta_gamma, при gamma = 0.98"
   ]
  },
  {
   "cell_type": "code",
   "execution_count": 34,
   "metadata": {},
   "outputs": [
    {
     "data": {
      "text/plain": [
       "array([0.        , 0.00398936, 0.00797831, 0.01196647, 0.01595344,\n",
       "       0.01993881, 0.02392218, 0.02790317, 0.03188137, 0.03585639,\n",
       "       0.03982784, 0.04379531, 0.04775843, 0.05171679, 0.05567   ,\n",
       "       0.05961769, 0.06355946, 0.06749493, 0.07142372, 0.07534543,\n",
       "       0.07925971, 0.08316616, 0.08706442, 0.09095412, 0.09483487,\n",
       "       0.09870633, 0.10256811, 0.10641987, 0.11026125, 0.11409188,\n",
       "       0.11791142, 0.12171952, 0.12551583, 0.12930002, 0.13307174,\n",
       "       0.13683065, 0.14057643, 0.14430875, 0.14802729, 0.15173173,\n",
       "       0.15542174, 0.15909703, 0.16275727, 0.16640218, 0.17003145,\n",
       "       0.17364478, 0.17724189, 0.18082249, 0.1843863 , 0.18793305,\n",
       "       0.19146246, 0.19497427, 0.19846821, 0.20194403, 0.20540148,\n",
       "       0.20884031, 0.21226028, 0.21566115, 0.21904269, 0.22240468,\n",
       "       0.22574688, 0.2290691 , 0.23237111, 0.23565271, 0.2389137 ,\n",
       "       0.24215389, 0.24537309, 0.2485711 , 0.25174777, 0.25490291,\n",
       "       0.25803635, 0.26114793, 0.2642375 , 0.26730491, 0.27035   ,\n",
       "       0.27337265, 0.27637271, 0.27935005, 0.28230456, 0.28523612,\n",
       "       0.2881446 , 0.29102991, 0.29389195, 0.29673061, 0.29954581,\n",
       "       0.30233746, 0.30510548, 0.3078498 , 0.31057035, 0.31326706,\n",
       "       0.31593987, 0.31858875, 0.32121362, 0.32381446, 0.32639122,\n",
       "       0.32894387, 0.33147239, 0.33397675, 0.33645694, 0.33891294,\n",
       "       0.34134475])"
      ]
     },
     "execution_count": 34,
     "metadata": {},
     "output_type": "execute_result"
    }
   ],
   "source": [
    "from scipy.stats import norm\n",
    "norm.cdf(np.linspace(0,1,101)) - 0.5"
   ]
  },
  {
   "cell_type": "code",
   "execution_count": 36,
   "metadata": {},
   "outputs": [
    {
     "data": {
      "text/plain": [
       "2.3263478740408408"
      ]
     },
     "execution_count": 36,
     "metadata": {},
     "output_type": "execute_result"
    }
   ],
   "source": [
    "norm.ppf(0.99)"
   ]
  },
  {
   "cell_type": "code",
   "execution_count": 35,
   "metadata": {},
   "outputs": [
    {
     "data": {
      "text/plain": [
       "0.19146246127401312"
      ]
     },
     "execution_count": 35,
     "metadata": {},
     "output_type": "execute_result"
    }
   ],
   "source": [
    "norm.cdf(0.5) - 0.5"
   ]
  },
  {
   "cell_type": "code",
   "execution_count": 21,
   "metadata": {},
   "outputs": [
    {
     "data": {
      "text/plain": [
       "(7, array([2, 3, 0, 0, 3, 4]))"
      ]
     },
     "execution_count": 21,
     "metadata": {},
     "output_type": "execute_result"
    }
   ],
   "source": [
    "# 1.16\n",
    "import numpy as np\n",
    "# подкинуть игральную костью 12 раз\n",
    "rng = np.random.default_rng()\n",
    "sample = rng.multinomial(12, [1/6.]*6)\n",
    "rv = sum(sample[3:])\n",
    "rv, sample\n"
   ]
  },
  {
   "cell_type": "code",
   "execution_count": 58,
   "metadata": {},
   "outputs": [],
   "source": [
    "d = {}\n",
    "n = 4096\n",
    "d['i'] = list(range(0, 13))\n",
    "d['h_i'] = [0, 7, 60, 198, 430, 731, 948, 847, 536, 257, 71, 11, 0]"
   ]
  },
  {
   "cell_type": "code",
   "execution_count": 59,
   "metadata": {},
   "outputs": [
    {
     "data": {
      "text/plain": [
       "[<matplotlib.lines.Line2D at 0x7f1c9c7664e0>]"
      ]
     },
     "execution_count": 59,
     "metadata": {},
     "output_type": "execute_result"
    },
    {
     "data": {
      "image/png": "[encoded data removed]",
      "text/plain": [
       "<Figure size 432x288 with 1 Axes>"
      ]
     },
     "metadata": {
      "needs_background": "light"
     },
     "output_type": "display_data"
    }
   ],
   "source": [
    "plt.plot(range(0,13), np.asarray(d['h_i']) / n)\n",
    "def func(x, c):\n",
    "    return c*np.exp(-x**2/2.)\n",
    "plt.plot(range(0, 13), [func(x-5.5, c=0.25) for x in range(0, 13)])"
   ]
  },
  {
   "cell_type": "markdown",
   "metadata": {},
   "source": []
  },
  {
   "cell_type": "code",
   "execution_count": 62,
   "metadata": {},
   "outputs": [
    {
     "data": {
      "text/plain": [
       "6.138916015625"
      ]
     },
     "execution_count": 62,
     "metadata": {},
     "output_type": "execute_result"
    }
   ],
   "source": [
    "sample = np.asarray(d['h_i'])\n",
    "# mean = sample.mean()\n",
    "# var = sample.var(ddof=1)\n",
    "# print(mean, var)\n",
    "mean = sum(sample * np.asarray(range(0, 13))) / n\n",
    "mean"
   ]
  },
  {
   "cell_type": "code",
   "execution_count": 65,
   "metadata": {},
   "outputs": [
    {
     "name": "stdout",
     "output_type": "stream",
     "text": [
      "0.08363186502302179\n",
      "Наблюдаемое значение |mean - 6| = 0.138916015625 > 0.08363186502302179 => мы наблюдаем маловероятное событие\n"
     ]
    }
   ],
   "source": [
    "gamma = 0.998\n",
    "n = 4096\n",
    "t = norm.ppf( (gamma + 1.) / 2.)\n",
    "delta = t * math.sqrt(3/n)\n",
    "print(delta)\n",
    "print(f\"Наблюдаемое значение |mean - 6| = {mean-6} > {delta} => мы наблюдаем маловероятное событие\")"
   ]
  },
  {
   "cell_type": "code",
   "execution_count": 69,
   "metadata": {},
   "outputs": [
    {
     "name": "stdout",
     "output_type": "stream",
     "text": [
      "0.95 и 0.9 квантили распр. Хи квадрат: 3.841458820694124 2.705543454095404\n",
      "Эти знаяения больше, чем статистика Хи квадрат = 0.776 поэтому по данным нельзя отвергнуть нулевую гипотезу о распрпеделении данных по биноминальному закону с уровнем значимости 0.95\n"
     ]
    }
   ],
   "source": [
    "# 3.1\n",
    "df = 1\n",
    "print(\"0.95 и 0.9 квантили распр. Хи квадрат:\", chi2.ppf(0.95, df), chi2.ppf(0.9, df))\n",
    "print(\"Эти знаяения больше, чем статистика Хи квадрат =\", 0.776, \"поэтому по данным нельзя отвергнуть нулевую гипотезу о распрпеделении данных по биноминальному закону с уровнем значимости 0.95\")"
   ]
  }
 ],
 "metadata": {
  "kernelspec": {
   "display_name": "Python 3",
   "language": "python",
   "name": "python3"
  },
  "language_info": {
   "codemirror_mode": {
    "name": "ipython",
    "version": 3
   },
   "file_extension": ".py",
   "mimetype": "text/x-python",
   "name": "python",
   "nbconvert_exporter": "python",
   "pygments_lexer": "ipython3",
   "version": "3.6.9"
  }
 },
 "nbformat": 4,
 "nbformat_minor": 2
}
