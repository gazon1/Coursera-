{
 "cells": [
  {
   "cell_type": "code",
   "execution_count": 12,
   "metadata": {},
   "outputs": [],
   "source": [
    "import pandas as pd\n",
    "from statsmodels.stats.weightstats import _tconfint_generic\n",
    "from math import sqrt"
   ]
  },
  {
   "cell_type": "code",
   "execution_count": 10,
   "metadata": {},
   "outputs": [
    {
     "data": {
      "text/html": [
       "<div>\n",
       "<style scoped>\n",
       "    .dataframe tbody tr th:only-of-type {\n",
       "        vertical-align: middle;\n",
       "    }\n",
       "\n",
       "    .dataframe tbody tr th {\n",
       "        vertical-align: top;\n",
       "    }\n",
       "\n",
       "    .dataframe thead th {\n",
       "        text-align: right;\n",
       "    }\n",
       "</style>\n",
       "<table border=\"1\" class=\"dataframe\">\n",
       "  <thead>\n",
       "    <tr style=\"text-align: right;\">\n",
       "      <th></th>\n",
       "      <th>location</th>\n",
       "      <th>town</th>\n",
       "      <th>mortality</th>\n",
       "      <th>hardness</th>\n",
       "    </tr>\n",
       "  </thead>\n",
       "  <tbody>\n",
       "    <tr>\n",
       "      <th>0</th>\n",
       "      <td>South</td>\n",
       "      <td>Bath</td>\n",
       "      <td>1247</td>\n",
       "      <td>105</td>\n",
       "    </tr>\n",
       "    <tr>\n",
       "      <th>1</th>\n",
       "      <td>North</td>\n",
       "      <td>Birkenhead</td>\n",
       "      <td>1668</td>\n",
       "      <td>17</td>\n",
       "    </tr>\n",
       "    <tr>\n",
       "      <th>2</th>\n",
       "      <td>South</td>\n",
       "      <td>Birmingham</td>\n",
       "      <td>1466</td>\n",
       "      <td>5</td>\n",
       "    </tr>\n",
       "    <tr>\n",
       "      <th>3</th>\n",
       "      <td>North</td>\n",
       "      <td>Blackburn</td>\n",
       "      <td>1800</td>\n",
       "      <td>14</td>\n",
       "    </tr>\n",
       "    <tr>\n",
       "      <th>4</th>\n",
       "      <td>North</td>\n",
       "      <td>Blackpool</td>\n",
       "      <td>1609</td>\n",
       "      <td>18</td>\n",
       "    </tr>\n",
       "  </tbody>\n",
       "</table>\n",
       "</div>"
      ],
      "text/plain": [
       "  location        town  mortality  hardness\n",
       "0    South        Bath       1247       105\n",
       "1    North  Birkenhead       1668        17\n",
       "2    South  Birmingham       1466         5\n",
       "3    North   Blackburn       1800        14\n",
       "4    North   Blackpool       1609        18"
      ]
     },
     "execution_count": 10,
     "metadata": {},
     "output_type": "execute_result"
    }
   ],
   "source": [
    "df = pd.read_csv(\"water.txt\", sep='\\t')\n",
    "df.head(5)"
   ]
  },
  {
   "cell_type": "code",
   "execution_count": 14,
   "metadata": {},
   "outputs": [
    {
     "name": "stdout",
     "output_type": "stream",
     "text": [
      "95%% confidence interval (1476.0833, 1572.2117)\n"
     ]
    }
   ],
   "source": [
    "# 2\n",
    "mean = df['mortality'].mean()\n",
    "mean_std = df['mortality'].std(ddof=1)/sqrt(df.shape[0])\n",
    "ans = _tconfint_generic(mean, mean_std,\n",
    "                                                                df.shape[0] - 1,\n",
    "                                                                0.05, 'two-sided')\n",
    "ans = tuple(map(lambda x: round(x, 4), ans))\n",
    "print(\"95%% confidence interval of mortality in all cities\", ans)"
   ]
  },
  {
   "cell_type": "code",
   "execution_count": 17,
   "metadata": {},
   "outputs": [
    {
     "name": "stdout",
     "output_type": "stream",
     "text": [
      "95%% confidence interval (1340.8831, 1412.7323)\n"
     ]
    }
   ],
   "source": [
    "# 3\n",
    "cond = df.location=='South'\n",
    "mean = df[cond]['mortality'].mean()\n",
    "mean_std = df[cond]['mortality'].std(ddof=1)/sqrt(df.shape[0])\n",
    "ans = _tconfint_generic(mean, mean_std,\n",
    "                                                                df.shape[0] - 1,\n",
    "                                                                0.05, 'two-sided')\n",
    "ans = tuple(map(lambda x: round(x, 4), ans))\n",
    "print(\"95%% confidence interval of mortality in South\", ans)"
   ]
  },
  {
   "cell_type": "code",
   "execution_count": 18,
   "metadata": {},
   "outputs": [
    {
     "name": "stdout",
     "output_type": "stream",
     "text": [
      "95%% confidence interval of mortality in North (1598.5288, 1668.6712)\n"
     ]
    }
   ],
   "source": [
    "# 4\n",
    "cond = df.location=='North'\n",
    "mean = df[cond]['mortality'].mean()\n",
    "mean_std = df[cond]['mortality'].std(ddof=1)/sqrt(df.shape[0])\n",
    "ans = _tconfint_generic(mean, mean_std,\n",
    "                                                                df.shape[0] - 1,\n",
    "                                                                0.05, 'two-sided')\n",
    "ans = tuple(map(lambda x: round(x, 4), ans))\n",
    "print(\"95%% confidence interval of mortality in North\", ans)"
   ]
  },
  {
   "cell_type": "code",
   "execution_count": 19,
   "metadata": {},
   "outputs": [
    {
     "name": "stdout",
     "output_type": "stream",
     "text": [
      "95%% confidence interval of hardness in North (23.7066, 37.0934)\n",
      "95%% confidence interval of hardness in South (59.4324, 80.1061)\n"
     ]
    }
   ],
   "source": [
    "# 5\n",
    "cond = df.location=='North'\n",
    "mean = df[cond]['hardness'].mean()\n",
    "mean_std = df[cond]['hardness'].std(ddof=1)/sqrt(df.shape[0])\n",
    "ans = _tconfint_generic(mean, mean_std,\n",
    "                                                                df.shape[0] - 1,\n",
    "                                                                0.05, 'two-sided')\n",
    "ans = tuple(map(lambda x: round(x, 4), ans))\n",
    "print(\"95%% confidence interval of hardness in North\", ans)\n",
    "\n",
    "\n",
    "cond = df.location=='South'\n",
    "mean = df[cond]['hardness'].mean()\n",
    "mean_std = df[cond]['hardness'].std(ddof=1)/sqrt(df.shape[0])\n",
    "ans = _tconfint_generic(mean, mean_std,\n",
    "                                                                df.shape[0] - 1,\n",
    "                                                                0.05, 'two-sided')\n",
    "ans = tuple(map(lambda x: round(x, 4), ans))\n",
    "print(\"95%% confidence interval of hardness in South\", ans)"
   ]
  },
  {
   "cell_type": "code",
   "execution_count": 22,
   "metadata": {},
   "outputs": [
    {
     "data": {
      "text/plain": [
       "384.14588206941244"
      ]
     },
     "execution_count": 22,
     "metadata": {},
     "output_type": "execute_result"
    }
   ],
   "source": [
    "# 6\n",
    "from scipy.stats import norm\n",
    "n = (norm.ppf(0.975) / 0.1)**2\n",
    "n"
   ]
  }
 ],
 "metadata": {
  "kernelspec": {
   "display_name": "Python 3",
   "language": "python",
   "name": "python3"
  },
  "language_info": {
   "codemirror_mode": {
    "name": "ipython",
    "version": 3
   },
   "file_extension": ".py",
   "mimetype": "text/x-python",
   "name": "python",
   "nbconvert_exporter": "python",
   "pygments_lexer": "ipython3",
   "version": "3.6.9"
  }
 },
 "nbformat": 4,
 "nbformat_minor": 2
}
